{
 "cells": [
  {
   "cell_type": "code",
   "execution_count": 2,
   "id": "9193b091-2c27-468a-86a2-1e445ffac977",
   "metadata": {},
   "outputs": [],
   "source": [
    "import pandas as pd "
   ]
  },
  {
   "cell_type": "code",
   "execution_count": 62,
   "id": "403c2e3f-5e93-40f1-80e9-2388330ece29",
   "metadata": {},
   "outputs": [],
   "source": [
    "import datetime as dt \n",
    "def student_info():\n",
    "    student = {}\n",
    "    while True :\n",
    "        rollno= input(\"What is your rollno\")\n",
    "        if rollno.isdigit():\n",
    "            student[\"rollno\"] = int(rollno)\n",
    "            break\n",
    "        else:\n",
    "            print(\"please enter a valid a rollno\")\n",
    "    while True :\n",
    "        n = input(\"what is your name\")\n",
    "        if n :\n",
    "            student[\"Student Name\"] = n\n",
    "            break\n",
    "        else:\n",
    "            print(\"Name cannot be empty\")\n",
    "    while True :\n",
    "        a = input(\"what is your father name\")\n",
    "        if a :\n",
    "            student[\"Father Name\"] = a \n",
    "            break\n",
    "        else :\n",
    "            print(\"Name cannot be empty\")\n",
    "    while True :\n",
    "        b = input(\"what is your mother name\")\n",
    "        if b :\n",
    "            student[\"Mother name\"] = b\n",
    "            break \n",
    "        else :\n",
    "            print(\"Name cannot be empty\")\n",
    "\n",
    "    \n",
    "    \n",
    "    while True :\n",
    "        c = input(\"Result pass or fail\")\n",
    "        if c:\n",
    "            student[\"Result\"] = c\n",
    "            break\n",
    "        else :\n",
    "            print(\"Name cannot be empty\")\n",
    "    while True:\n",
    "        y = input(\"Date of issue result\")\n",
    "        try :\n",
    "            y = dt.datetime.strptime(y,'%Y-%m-%d').date()\n",
    "            student[\"issue_date\"] = y\n",
    "        except ValueError as F:\n",
    "            print(F,\"Please enter in 'YYYY-MM-DD' format \")\n",
    "        return student        "
   ]
  },
  {
   "cell_type": "code",
   "execution_count": 63,
   "id": "0e691db4-20cf-42b4-bf30-78a831849d9d",
   "metadata": {},
   "outputs": [
    {
     "name": "stdin",
     "output_type": "stream",
     "text": [
      "What is your rollno an\n"
     ]
    },
    {
     "name": "stdout",
     "output_type": "stream",
     "text": [
      "please enter a valid a rollno\n"
     ]
    },
    {
     "name": "stdin",
     "output_type": "stream",
     "text": [
      "What is your rollno 26\n",
      "what is your name vknnsif\n",
      "what is your father name kjvnfdi\n",
      "what is your mother name jhsdf\n",
      "Result pass or fail pass\n",
      "Date of issue result 2024-09-24\n"
     ]
    }
   ],
   "source": [
    "a = student_info()"
   ]
  },
  {
   "cell_type": "code",
   "execution_count": 4,
   "id": "7673538f-4112-4678-9609-fee2cefa7b33",
   "metadata": {},
   "outputs": [],
   "source": [
    "def student_info():\n",
    "    student = {}\n",
    "    while True :\n",
    "        rollno= input(\"What is your rollno\")\n",
    "        if rollno.isdigit():\n",
    "            student[\"rollno\"] = int(rollno)\n",
    "            break\n",
    "        else:\n",
    "            print(\"please enter a valid a rollno\")\n",
    "    while True :\n",
    "        n = input(\"what is your name\")\n",
    "        if n :\n",
    "            student[\"Student Name\"] = n\n",
    "            break\n",
    "        else:\n",
    "            print(\"Name cannot be empty\")\n",
    "    while True :\n",
    "        a = input(\"what is your father name\")\n",
    "        if a :\n",
    "            student[\"Father Name\"] = a \n",
    "            break\n",
    "        else :\n",
    "            print(\"Name cannot be empty\")\n",
    "    while True :\n",
    "        b = input(\"what is your mother name\")\n",
    "        if b :\n",
    "            student[\"Mother name\"] = b\n",
    "            break \n",
    "        else :\n",
    "            print(\"Name cannot be empty\")\n",
    "    while True :\n",
    "        c = input(\"Result pass or fail\")\n",
    "        if c:\n",
    "            student[\"Result\"] = c\n",
    "            break\n",
    "        else :\n",
    "            print(\"Name cannot be empty\")\n",
    "    return student"
   ]
  },
  {
   "cell_type": "code",
   "execution_count": 5,
   "id": "63c2f92b-9c96-446f-9aa5-f7079317c939",
   "metadata": {},
   "outputs": [
    {
     "name": "stdin",
     "output_type": "stream",
     "text": [
      "What is your rollno 254\n",
      "what is your name hfWEFOAI\n",
      "what is your father name Jgdascauil\n",
      "what is your mother name jhgiul\n",
      "Result pass or fail pass\n"
     ]
    }
   ],
   "source": [
    "b = student_info()"
   ]
  },
  {
   "cell_type": "code",
   "execution_count": 30,
   "id": "1b914f57-4f6d-4252-9e6c-bd2aa1d9a6f9",
   "metadata": {},
   "outputs": [
    {
     "ename": "NameError",
     "evalue": "name 'b' is not defined",
     "output_type": "error",
     "traceback": [
      "\u001b[1;31m---------------------------------------------------------------------------\u001b[0m",
      "\u001b[1;31mNameError\u001b[0m                                 Traceback (most recent call last)",
      "Cell \u001b[1;32mIn[30], line 1\u001b[0m\n\u001b[1;32m----> 1\u001b[0m \u001b[38;5;28mprint\u001b[39m(\u001b[43mb\u001b[49m)\n",
      "\u001b[1;31mNameError\u001b[0m: name 'b' is not defined"
     ]
    }
   ],
   "source": [
    "print(b)"
   ]
  },
  {
   "cell_type": "code",
   "execution_count": 1,
   "id": "74a3c8ab-c4b1-4ef7-9796-ac457eddcef2",
   "metadata": {},
   "outputs": [
    {
     "ename": "NameError",
     "evalue": "name 'pd' is not defined",
     "output_type": "error",
     "traceback": [
      "\u001b[1;31m---------------------------------------------------------------------------\u001b[0m",
      "\u001b[1;31mNameError\u001b[0m                                 Traceback (most recent call last)",
      "Cell \u001b[1;32mIn[1], line 1\u001b[0m\n\u001b[1;32m----> 1\u001b[0m a \u001b[38;5;241m=\u001b[39m \u001b[43mpd\u001b[49m\u001b[38;5;241m.\u001b[39mDataFrame(b,index\u001b[38;5;241m=\u001b[39m[\u001b[38;5;241m1\u001b[39m])\n",
      "\u001b[1;31mNameError\u001b[0m: name 'pd' is not defined"
     ]
    }
   ],
   "source": [
    "a = pd.DataFrame(b,index=[1])"
   ]
  },
  {
   "cell_type": "code",
   "execution_count": 1,
   "id": "1f23b2c4-948e-40d1-8ccf-278fe671644a",
   "metadata": {},
   "outputs": [],
   "source": [
    "import pandas as pd\n",
    "\n",
    "# Creating a sample dataframe\n",
    "df = pd.DataFrame({'A': [1, 2], 'B': [3, 4]})\n",
    "\n",
    "# Exporting the dataframe to a CSV file\n",
    "df.to_csv('output.csv', index=False)\n"
   ]
  },
  {
   "cell_type": "markdown",
   "id": "3434dd46-e9d8-4f3a-9341-b747d235c740",
   "metadata": {},
   "source": [
    "# completed school report format "
   ]
  },
  {
   "cell_type": "code",
   "execution_count": 5,
   "id": "decde0ef-77db-46ac-a38e-3856f835ea64",
   "metadata": {},
   "outputs": [],
   "source": [
    "import pandas as pd\n",
    "\n",
    "def student_info():\n",
    "    student = {}\n",
    "    while True:\n",
    "        n = input(\"Please enter a student name? \")\n",
    "        if n:\n",
    "            student[\"Name\"] = n\n",
    "            break\n",
    "        else:\n",
    "            print(\"Name cannot be empty!\")\n",
    "    \n",
    "    while True:\n",
    "        roll_no = input(\"Please enter a valid roll number? \")\n",
    "        if roll_no.isdigit():\n",
    "            student[\"roll_no\"] = int(roll_no)\n",
    "            break\n",
    "        else:\n",
    "            print(\"Please enter only digits!\")\n",
    "    \n",
    "    while True:\n",
    "        English = input(\"Please enter English marks? \")\n",
    "        if English.isdigit() and int(English) <= 100:\n",
    "            student[\"English\"] = int(English)\n",
    "            break\n",
    "        else:\n",
    "            print(\"Please enter only numbers under 100!\")\n",
    "    \n",
    "    while True:\n",
    "        Math = input(\"Please enter Maths marks \")\n",
    "        if Math.isdigit() and int(Math) <= 100:\n",
    "            student[\"Math\"] = int(Math)\n",
    "            break\n",
    "        else:\n",
    "            print(\"Please enter only numbers under 100!\")\n",
    "    \n",
    "    while True:\n",
    "        Hindi = input(\"Please enter Hindi marks\")\n",
    "        if Hindi.isdigit() and int(Hindi) <= 100:\n",
    "            student[\"Hindi\"] = int(Hindi)\n",
    "            break\n",
    "        else:\n",
    "            print(\"Please enter only numbers under 100!\")\n",
    "    \n",
    "    while True:\n",
    "        Science = input(\"Please enter Science marks\")\n",
    "        if Science.isdigit() and int(Science) <= 100:\n",
    "            student[\"Science\"] = int(Science)\n",
    "            break \n",
    "        else:\n",
    "            print(\"Please enter only numbers under 100!\")\n",
    "    \n",
    "    while True:\n",
    "        Sanskrit = input(\"Please enter Sanskrit marks\")\n",
    "        if Sanskrit.isdigit() and int(Sanskrit) <= 100:\n",
    "            student[\"Sanskrit\"] = int(Sanskrit)\n",
    "            break \n",
    "        else:\n",
    "            print(\"Please enter only numbers under 100!\")\n",
    "    \n",
    "    return sum(student.values)/500*100\n"
   ]
  },
  {
   "cell_type": "code",
   "execution_count": null,
   "id": "2bda6a0e-cda4-4b25-956d-5526952ed99e",
   "metadata": {},
   "outputs": [],
   "source": [
    "import pandas as pd\n",
    "\n",
    "# Creating a sample dataframe\n",
    "df = pd.DataFrame({'A': [1, 2], 'B': [3, 4]})\n",
    "\n",
    "# Exporting the dataframe to a CSV file\n",
    "df.to_csv('output.csv', index=False)\n"
   ]
  },
  {
   "cell_type": "code",
   "execution_count": 10,
   "id": "52668ce7-ada2-4792-88ec-fabcd2ca8dfa",
   "metadata": {},
   "outputs": [],
   "source": [
    "df.to_csv('output.csv', index=False)"
   ]
  },
  {
   "cell_type": "code",
   "execution_count": 1,
   "id": "7ca4d389-2c8a-4bb2-996b-fc0239c02ebf",
   "metadata": {},
   "outputs": [
    {
     "ename": "NameError",
     "evalue": "name 'student_info' is not defined",
     "output_type": "error",
     "traceback": [
      "\u001b[1;31m---------------------------------------------------------------------------\u001b[0m",
      "\u001b[1;31mNameError\u001b[0m                                 Traceback (most recent call last)",
      "Cell \u001b[1;32mIn[1], line 6\u001b[0m\n\u001b[0;32m      3\u001b[0m     \u001b[38;5;28;01mreturn\u001b[39;00m total\n\u001b[0;32m      5\u001b[0m \u001b[38;5;66;03m# Collect student information\u001b[39;00m\n\u001b[1;32m----> 6\u001b[0m student_data \u001b[38;5;241m=\u001b[39m \u001b[43mstudent_info\u001b[49m()\n\u001b[0;32m      8\u001b[0m \u001b[38;5;66;03m# Convert the dictionary to a DataFrame\u001b[39;00m\n\u001b[0;32m      9\u001b[0m df \u001b[38;5;241m=\u001b[39m pd\u001b[38;5;241m.\u001b[39mDataFrame\u001b[38;5;241m.\u001b[39mfrom_dict([student_data])\n",
      "\u001b[1;31mNameError\u001b[0m: name 'student_info' is not defined"
     ]
    }
   ],
   "source": [
    "def sum_subject_marks(student_data, subjects):\n",
    "    total = sum(student_data[subject] for subject in subjects if subject in student_data)\n",
    "    return total\n",
    "\n",
    "# Collect student information\n",
    "student_data = student_info()\n",
    "\n",
    "# Convert the dictionary to a DataFrame\n",
    "df = pd.DataFrame.from_dict([student_data])\n",
    "\n",
    "# Calculate the sum of specified subjects\n",
    "subjects_to_sum = ['English', 'Math','Science','Sanskrit','Hindi']\n",
    "total_marks = sum_subject_marks(student_data, subjects_to_sum)\n",
    "total_marks_percentage =(sum_subject_marks(student_data, subjects_to_sum) / 500)*100\n",
    "\n",
    "print(df)\n",
    "print(f\"Total marks for {', '.join(subjects_to_sum)}: {total_marks}:{total_marks_percentage}\")\n"
   ]
  },
  {
   "cell_type": "code",
   "execution_count": 4,
   "id": "e0fe7d7a-7b17-407d-8464-dfbfbdb3d5cf",
   "metadata": {},
   "outputs": [
    {
     "data": {
      "text/plain": [
       "5"
      ]
     },
     "execution_count": 4,
     "metadata": {},
     "output_type": "execute_result"
    }
   ],
   "source": [
    "sum({\"i\":1,\"i2\":4}.values())"
   ]
  },
  {
   "cell_type": "code",
   "execution_count": null,
   "id": "a5c3fb1f-e1cc-4758-bb32-c1f0bd83c127",
   "metadata": {},
   "outputs": [],
   "source": []
  }
 ],
 "metadata": {
  "kernelspec": {
   "display_name": "Python 3 (ipykernel)",
   "language": "python",
   "name": "python3"
  },
  "language_info": {
   "codemirror_mode": {
    "name": "ipython",
    "version": 3
   },
   "file_extension": ".py",
   "mimetype": "text/x-python",
   "name": "python",
   "nbconvert_exporter": "python",
   "pygments_lexer": "ipython3",
   "version": "3.12.5"
  }
 },
 "nbformat": 4,
 "nbformat_minor": 5
}
